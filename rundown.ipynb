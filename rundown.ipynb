{
 "cells": [
  {
   "cell_type": "markdown",
   "metadata": {},
   "source": [
    "# Rundown\n",
    "\n",
    "*You started on that rundown yet?*"
   ]
  },
  {
   "cell_type": "code",
   "execution_count": 3,
   "metadata": {
    "ExecuteTime": {
     "end_time": "2019-07-09T04:45:30.537589Z",
     "start_time": "2019-07-09T04:45:30.534212Z"
    }
   },
   "outputs": [],
   "source": [
    "import pandas as pd\n",
    "import rundown"
   ]
  },
  {
   "cell_type": "markdown",
   "metadata": {},
   "source": [
    "# Test"
   ]
  },
  {
   "cell_type": "code",
   "execution_count": 4,
   "metadata": {
    "ExecuteTime": {
     "end_time": "2019-07-09T04:51:15.138243Z",
     "start_time": "2019-07-09T04:51:14.889931Z"
    }
   },
   "outputs": [],
   "source": [
    "df = pd.util.testing.makeDataFrame()"
   ]
  },
  {
   "cell_type": "code",
   "execution_count": 5,
   "metadata": {
    "ExecuteTime": {
     "end_time": "2019-07-09T04:51:18.925476Z",
     "start_time": "2019-07-09T04:51:18.539770Z"
    },
    "scrolled": false
   },
   "outputs": [
    {
     "data": {
      "text/html": [
       "<table border=\"1\" class=\"dataframe\">\n",
       "  <thead><tr><td style=\"vertical-align:bottom;\"><table border=\"1\" class=\"dataframe\">\n",
       "  <tbody style=\"display: block; max-height: 1in; overflow-y: auto\">\n",
       "    <tr>\n",
       "      <th>count</th>\n",
       "      <td>30</td>\n",
       "    </tr>\n",
       "    <tr>\n",
       "      <th>unique</th>\n",
       "      <td>30</td>\n",
       "    </tr>\n",
       "    <tr>\n",
       "      <th>top</th>\n",
       "      <td>iJzckwEKrF</td>\n",
       "    </tr>\n",
       "    <tr>\n",
       "      <th>freq</th>\n",
       "      <td>1</td>\n",
       "    </tr>\n",
       "  </tbody>\n",
       "</table></td><td style=\"min-width:125px;vertical-align:bottom;\"><img src='data:image/png;base64,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'></td><td style=\"min-width:125px;vertical-align:bottom;\"><img src='data:image/png;base64,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'></td><td style=\"min-width:125px;vertical-align:bottom;\"><img src='data:image/png;base64,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'></td><td style=\"min-width:125px;vertical-align:bottom;\"><img src='data:image/png;base64,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'></td></tr>\n",
       "    <tr style=\"text-align: right;\">\n",
       "      <th>index<br/><i>object</i></th>\n",
       "      <th>A<br/><i>float64</i></th>\n",
       "      <th>B<br/><i>float64</i></th>\n",
       "      <th>C<br/><i>float64</i></th>\n",
       "      <th>D<br/><i>float64</i></th>\n",
       "    </tr>\n",
       "  </thead>\n",
       "  <tbody>\n",
       "    <tr>\n",
       "      <td>NYZ9yLO0Oh</td>\n",
       "      <td>-0.452946</td>\n",
       "      <td>0.597248</td>\n",
       "      <td>-0.136823</td>\n",
       "      <td>1.076099</td>\n",
       "    </tr>\n",
       "    <tr>\n",
       "      <td>KYSLyDwofO</td>\n",
       "      <td>-0.526742</td>\n",
       "      <td>2.142806</td>\n",
       "      <td>2.669961</td>\n",
       "      <td>-0.631272</td>\n",
       "    </tr>\n",
       "    <tr>\n",
       "      <td>GQvxdAkppH</td>\n",
       "      <td>-0.490591</td>\n",
       "      <td>0.913217</td>\n",
       "      <td>0.588092</td>\n",
       "      <td>-0.268190</td>\n",
       "    </tr>\n",
       "    <tr>\n",
       "      <td>qP542aHRPf</td>\n",
       "      <td>1.070159</td>\n",
       "      <td>0.801060</td>\n",
       "      <td>-1.844998</td>\n",
       "      <td>-0.169885</td>\n",
       "    </tr>\n",
       "    <tr>\n",
       "      <td>8D7YwBwDV9</td>\n",
       "      <td>-1.650262</td>\n",
       "      <td>0.592181</td>\n",
       "      <td>-0.869750</td>\n",
       "      <td>0.722149</td>\n",
       "    </tr>\n",
       "    <tr>\n",
       "      <td>kc0lr3DqL6</td>\n",
       "      <td>-0.001070</td>\n",
       "      <td>0.330784</td>\n",
       "      <td>-1.034567</td>\n",
       "      <td>0.353659</td>\n",
       "    </tr>\n",
       "    <tr>\n",
       "      <td>GjpxtkKUT5</td>\n",
       "      <td>-1.568921</td>\n",
       "      <td>0.128096</td>\n",
       "      <td>1.894373</td>\n",
       "      <td>-2.311718</td>\n",
       "    </tr>\n",
       "    <tr>\n",
       "      <td>8ezc1RDLYg</td>\n",
       "      <td>-0.948000</td>\n",
       "      <td>-0.585122</td>\n",
       "      <td>-0.278684</td>\n",
       "      <td>-0.027725</td>\n",
       "    </tr>\n",
       "    <tr>\n",
       "      <td>O4R6oBnWKF</td>\n",
       "      <td>2.475320</td>\n",
       "      <td>1.030660</td>\n",
       "      <td>-2.431790</td>\n",
       "      <td>0.752392</td>\n",
       "    </tr>\n",
       "    <tr>\n",
       "      <td>HCW3y8Bsyi</td>\n",
       "      <td>-0.509479</td>\n",
       "      <td>1.444876</td>\n",
       "      <td>0.126437</td>\n",
       "      <td>-1.754752</td>\n",
       "    </tr>\n",
       "  </tbody>\n",
       "</table>"
      ],
      "text/plain": [
       "<rundown.rundown.<locals>.Rundown at 0x7feb8e9f3f98>"
      ]
     },
     "execution_count": 5,
     "metadata": {},
     "output_type": "execute_result"
    }
   ],
   "source": [
    "df.rundown()"
   ]
  },
  {
   "cell_type": "markdown",
   "metadata": {},
   "source": [
    "## Funky Types"
   ]
  },
  {
   "cell_type": "code",
   "execution_count": 6,
   "metadata": {
    "ExecuteTime": {
     "end_time": "2019-07-09T04:51:15.138243Z",
     "start_time": "2019-07-09T04:51:14.889931Z"
    }
   },
   "outputs": [],
   "source": [
    "df = pd.util.testing.makeTimeDataFrame()"
   ]
  },
  {
   "cell_type": "code",
   "execution_count": 7,
   "metadata": {
    "ExecuteTime": {
     "end_time": "2019-07-09T04:51:18.925476Z",
     "start_time": "2019-07-09T04:51:18.539770Z"
    },
    "scrolled": true
   },
   "outputs": [
    {
     "data": {
      "text/html": [
       "<table border=\"1\" class=\"dataframe\">\n",
       "  <thead><tr><td style=\"vertical-align:bottom;\"><table border=\"1\" class=\"dataframe\">\n",
       "  <tbody style=\"display: block; max-height: 1in; overflow-y: auto\">\n",
       "    <tr>\n",
       "      <th>count</th>\n",
       "      <td>30</td>\n",
       "    </tr>\n",
       "    <tr>\n",
       "      <th>unique</th>\n",
       "      <td>30</td>\n",
       "    </tr>\n",
       "    <tr>\n",
       "      <th>top</th>\n",
       "      <td>2000-01-28 00:00:00</td>\n",
       "    </tr>\n",
       "    <tr>\n",
       "      <th>freq</th>\n",
       "      <td>1</td>\n",
       "    </tr>\n",
       "    <tr>\n",
       "      <th>first</th>\n",
       "      <td>2000-01-03 00:00:00</td>\n",
       "    </tr>\n",
       "    <tr>\n",
       "      <th>last</th>\n",
       "      <td>2000-02-11 00:00:00</td>\n",
       "    </tr>\n",
       "  </tbody>\n",
       "</table></td><td style=\"min-width:125px;vertical-align:bottom;\"><img src='data:image/png;base64,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'></td><td style=\"min-width:125px;vertical-align:bottom;\"><img src='data:image/png;base64,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'></td><td style=\"min-width:125px;vertical-align:bottom;\"><img src='data:image/png;base64,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'></td><td style=\"min-width:125px;vertical-align:bottom;\"><img src='data:image/png;base64,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'></td></tr>\n",
       "    <tr style=\"text-align: right;\">\n",
       "      <th>index<br/><i>datetime64[ns]</i></th>\n",
       "      <th>A<br/><i>float64</i></th>\n",
       "      <th>B<br/><i>float64</i></th>\n",
       "      <th>C<br/><i>float64</i></th>\n",
       "      <th>D<br/><i>float64</i></th>\n",
       "    </tr>\n",
       "  </thead>\n",
       "  <tbody>\n",
       "    <tr>\n",
       "      <td>2000-01-21</td>\n",
       "      <td>0.197154</td>\n",
       "      <td>-0.954119</td>\n",
       "      <td>-1.045973</td>\n",
       "      <td>0.129597</td>\n",
       "    </tr>\n",
       "    <tr>\n",
       "      <td>2000-01-06</td>\n",
       "      <td>0.398879</td>\n",
       "      <td>0.399479</td>\n",
       "      <td>-0.399908</td>\n",
       "      <td>2.682686</td>\n",
       "    </tr>\n",
       "    <tr>\n",
       "      <td>2000-02-09</td>\n",
       "      <td>-0.325679</td>\n",
       "      <td>0.725748</td>\n",
       "      <td>-0.223353</td>\n",
       "      <td>1.810979</td>\n",
       "    </tr>\n",
       "    <tr>\n",
       "      <td>2000-01-26</td>\n",
       "      <td>0.875941</td>\n",
       "      <td>-0.436630</td>\n",
       "      <td>0.419654</td>\n",
       "      <td>-2.036473</td>\n",
       "    </tr>\n",
       "    <tr>\n",
       "      <td>2000-01-12</td>\n",
       "      <td>0.036260</td>\n",
       "      <td>-0.811318</td>\n",
       "      <td>-1.549800</td>\n",
       "      <td>0.998802</td>\n",
       "    </tr>\n",
       "    <tr>\n",
       "      <td>2000-01-19</td>\n",
       "      <td>-0.217234</td>\n",
       "      <td>0.789490</td>\n",
       "      <td>0.598815</td>\n",
       "      <td>-0.822867</td>\n",
       "    </tr>\n",
       "    <tr>\n",
       "      <td>2000-01-05</td>\n",
       "      <td>-1.085837</td>\n",
       "      <td>2.419018</td>\n",
       "      <td>-1.447393</td>\n",
       "      <td>2.221506</td>\n",
       "    </tr>\n",
       "    <tr>\n",
       "      <td>2000-02-01</td>\n",
       "      <td>0.863429</td>\n",
       "      <td>-0.494022</td>\n",
       "      <td>1.744809</td>\n",
       "      <td>1.387112</td>\n",
       "    </tr>\n",
       "    <tr>\n",
       "      <td>2000-01-10</td>\n",
       "      <td>2.342925</td>\n",
       "      <td>-0.252412</td>\n",
       "      <td>1.529056</td>\n",
       "      <td>-2.037250</td>\n",
       "    </tr>\n",
       "    <tr>\n",
       "      <td>2000-01-14</td>\n",
       "      <td>-1.396137</td>\n",
       "      <td>0.535713</td>\n",
       "      <td>-0.396216</td>\n",
       "      <td>-0.321394</td>\n",
       "    </tr>\n",
       "  </tbody>\n",
       "</table>"
      ],
      "text/plain": [
       "<rundown.rundown.<locals>.Rundown at 0x7febcaaaac18>"
      ]
     },
     "execution_count": 7,
     "metadata": {},
     "output_type": "execute_result"
    }
   ],
   "source": [
    "df.rundown()"
   ]
  },
  {
   "cell_type": "markdown",
   "metadata": {},
   "source": [
    "### Mixed Types"
   ]
  },
  {
   "cell_type": "code",
   "execution_count": 17,
   "metadata": {},
   "outputs": [
    {
     "data": {
      "text/html": [
       "<table border=\"1\" class=\"dataframe\">\n",
       "  <thead><tr><td style=\"vertical-align:bottom;\"><table border=\"1\" class=\"dataframe\">\n",
       "  <tbody style=\"display: block; max-height: 1in; overflow-y: auto\">\n",
       "    <tr>\n",
       "      <th>0</th>\n",
       "      <td>20.0%</td>\n",
       "    </tr>\n",
       "    <tr>\n",
       "      <th>1</th>\n",
       "      <td>20.0%</td>\n",
       "    </tr>\n",
       "    <tr>\n",
       "      <th>2</th>\n",
       "      <td>20.0%</td>\n",
       "    </tr>\n",
       "    <tr>\n",
       "      <th>3</th>\n",
       "      <td>20.0%</td>\n",
       "    </tr>\n",
       "    <tr>\n",
       "      <th>4</th>\n",
       "      <td>20.0%</td>\n",
       "    </tr>\n",
       "  </tbody>\n",
       "</table></td><td style=\"min-width:125px;vertical-align:bottom;\"><img src='data:image/png;base64,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'></td><td style=\"min-width:125px;vertical-align:bottom;\"><img src='data:image/png;base64,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'></td><td style=\"vertical-align:bottom;\"><table border=\"1\" class=\"dataframe\">\n",
       "  <tbody style=\"display: block; max-height: 1in; overflow-y: auto\">\n",
       "    <tr>\n",
       "      <th>foo1</th>\n",
       "      <td>20.0%</td>\n",
       "    </tr>\n",
       "    <tr>\n",
       "      <th>foo2</th>\n",
       "      <td>20.0%</td>\n",
       "    </tr>\n",
       "    <tr>\n",
       "      <th>foo3</th>\n",
       "      <td>20.0%</td>\n",
       "    </tr>\n",
       "    <tr>\n",
       "      <th>foo4</th>\n",
       "      <td>20.0%</td>\n",
       "    </tr>\n",
       "    <tr>\n",
       "      <th>foo5</th>\n",
       "      <td>20.0%</td>\n",
       "    </tr>\n",
       "  </tbody>\n",
       "</table></td><td style=\"vertical-align:bottom;\"><table border=\"1\" class=\"dataframe\">\n",
       "  <tbody style=\"display: block; max-height: 1in; overflow-y: auto\">\n",
       "    <tr>\n",
       "      <th>count</th>\n",
       "      <td>5</td>\n",
       "    </tr>\n",
       "    <tr>\n",
       "      <th>unique</th>\n",
       "      <td>5</td>\n",
       "    </tr>\n",
       "    <tr>\n",
       "      <th>top</th>\n",
       "      <td>2009-01-02 00:00:00</td>\n",
       "    </tr>\n",
       "    <tr>\n",
       "      <th>freq</th>\n",
       "      <td>1</td>\n",
       "    </tr>\n",
       "    <tr>\n",
       "      <th>first</th>\n",
       "      <td>2009-01-01 00:00:00</td>\n",
       "    </tr>\n",
       "    <tr>\n",
       "      <th>last</th>\n",
       "      <td>2009-01-07 00:00:00</td>\n",
       "    </tr>\n",
       "  </tbody>\n",
       "</table></td></tr>\n",
       "    <tr style=\"text-align: right;\">\n",
       "      <th>index<br/><i>int64</i></th>\n",
       "      <th>A<br/><i>float64</i></th>\n",
       "      <th>B<br/><i>float64</i></th>\n",
       "      <th>C<br/><i>object</i></th>\n",
       "      <th>D<br/><i>datetime64[ns]</i></th>\n",
       "    </tr>\n",
       "  </thead>\n",
       "  <tbody>\n",
       "    <tr>\n",
       "      <td>0</td>\n",
       "      <td>0.0</td>\n",
       "      <td>0.0</td>\n",
       "      <td>foo1</td>\n",
       "      <td>2009-01-01</td>\n",
       "    </tr>\n",
       "    <tr>\n",
       "      <td>3</td>\n",
       "      <td>3.0</td>\n",
       "      <td>1.0</td>\n",
       "      <td>foo4</td>\n",
       "      <td>2009-01-06</td>\n",
       "    </tr>\n",
       "    <tr>\n",
       "      <td>1</td>\n",
       "      <td>1.0</td>\n",
       "      <td>1.0</td>\n",
       "      <td>foo2</td>\n",
       "      <td>2009-01-02</td>\n",
       "    </tr>\n",
       "    <tr>\n",
       "      <td>2</td>\n",
       "      <td>2.0</td>\n",
       "      <td>0.0</td>\n",
       "      <td>foo3</td>\n",
       "      <td>2009-01-05</td>\n",
       "    </tr>\n",
       "    <tr>\n",
       "      <td>4</td>\n",
       "      <td>4.0</td>\n",
       "      <td>0.0</td>\n",
       "      <td>foo5</td>\n",
       "      <td>2009-01-07</td>\n",
       "    </tr>\n",
       "  </tbody>\n",
       "</table>"
      ],
      "text/plain": [
       "<rundown.rundown.<locals>.Rundown at 0x7feb87a9b0f0>"
      ]
     },
     "execution_count": 17,
     "metadata": {},
     "output_type": "execute_result"
    }
   ],
   "source": [
    "pd.util.testing.makeMixedDataFrame().rundown()"
   ]
  }
 ],
 "metadata": {
  "kernelspec": {
   "display_name": "Python 3",
   "language": "python",
   "name": "python3"
  },
  "language_info": {
   "codemirror_mode": {
    "name": "ipython",
    "version": 3
   },
   "file_extension": ".py",
   "mimetype": "text/x-python",
   "name": "python",
   "nbconvert_exporter": "python",
   "pygments_lexer": "ipython3",
   "version": "3.6.8"
  },
  "varInspector": {
   "cols": {
    "lenName": 16,
    "lenType": 16,
    "lenVar": 40
   },
   "kernels_config": {
    "python": {
     "delete_cmd_postfix": "",
     "delete_cmd_prefix": "del ",
     "library": "var_list.py",
     "varRefreshCmd": "print(var_dic_list())"
    },
    "r": {
     "delete_cmd_postfix": ") ",
     "delete_cmd_prefix": "rm(",
     "library": "var_list.r",
     "varRefreshCmd": "cat(var_dic_list()) "
    }
   },
   "types_to_exclude": [
    "module",
    "function",
    "builtin_function_or_method",
    "instance",
    "_Feature"
   ],
   "window_display": false
  }
 },
 "nbformat": 4,
 "nbformat_minor": 2
}
