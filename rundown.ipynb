{
 "cells": [
  {
   "cell_type": "markdown",
   "metadata": {},
   "source": [
    "# Rundown\n",
    "\n",
    "*You started on that rundown yet?*"
   ]
  },
  {
   "cell_type": "code",
   "execution_count": 1,
   "metadata": {
    "ExecuteTime": {
     "end_time": "2019-07-09T04:45:30.537589Z",
     "start_time": "2019-07-09T04:45:30.534212Z"
    }
   },
   "outputs": [],
   "source": [
    "import pandas as pd\n",
    "import rundown"
   ]
  },
  {
   "cell_type": "markdown",
   "metadata": {},
   "source": [
    "# Test"
   ]
  },
  {
   "cell_type": "code",
   "execution_count": 2,
   "metadata": {
    "ExecuteTime": {
     "end_time": "2019-07-09T04:51:15.138243Z",
     "start_time": "2019-07-09T04:51:14.889931Z"
    }
   },
   "outputs": [],
   "source": [
    "df = pd.util.testing.makeDataFrame()"
   ]
  },
  {
   "cell_type": "code",
   "execution_count": 3,
   "metadata": {
    "ExecuteTime": {
     "end_time": "2019-07-09T04:51:18.925476Z",
     "start_time": "2019-07-09T04:51:18.539770Z"
    },
    "scrolled": false
   },
   "outputs": [
    {
     "data": {
      "text/html": [
       "<table border=\"1\" class=\"dataframe\">\n",
       "  <thead><tr><td style=\"min-width:125px;vertical-align:bottom;\"><img src='data:image/png;base64,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'></td><td style=\"min-width:125px;vertical-align:bottom;\"><img src='data:image/png;base64,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'></td><td style=\"min-width:125px;vertical-align:bottom;\"><img src='data:image/png;base64,iVBORw0KGgoAAAANSUhEUgAAAI4AAACCCAYAAACQP/BzAAAABHNCSVQICAgIfAhkiAAAAAlwSFlzAAALEgAACxIB0t1+/AAAADl0RVh0U29mdHdhcmUAbWF0cGxvdGxpYiB2ZXJzaW9uIDMuMC4zLCBodHRwOi8vbWF0cGxvdGxpYi5vcmcvnQurowAABqtJREFUeJzt3V9IU30cx/HPYgyi8oHQ/qkgQ4sl5nQTDYIsCMFHutCbQCiq4U0XRXnxRBfPRUESj6DYlUEFVu5WaNWNJYk3YXRRSRHVAbeo54mnWpNSN37PxYORqTs/v+5sZ57P6852OvsefXM2d06/XEopBaJlWpPrASg/MRwSYTgkwnBIhOGQCMMhEYZDIgyHRBgOiTAcEnHrbPT582eEQiE8e/YMLpcLV69exe7du5fcvrCwEGVlZZmaMSumpqawbt26XI+RFemO1TAMfPz40XwnSsPhw4fVlStXlFJKTU9Pq0+fPqXdPhAI6OzWVh48eJDrEbIm3bHq/uxMzzjxeBwPHz7E9evXAQAejwcej2dZhdPqY/oe582bNygqKsLRo0dRU1ODUCiEqampbMxGNuZSKv1tFePj42hoaMDY2Bjq6+tx8uRJFBQU4Pz58/O26+/vR39/PwAgGo0iHA5bN7UF/v73Cz58M9+uqvg364exWCKRwPr16xd9rLOzE+Pj46b7MA3n/fv3aGhogGEYAIDR0VF0dXUhEoks+XeCwaDWk9tJ380hdD81/13B6Po9C9NYa2RkBI2NjYs+pvuzM32p2rJlC0pLS/Hy5UsAwPDwMHbu3Lm8SWnV0fp1vK+vD+3t7ZiZmYHX68W1a9esnotsTiscv9+fdy89ZC1+ckwiDIdEGA6JMBwSYTgkwnBIhOGQCMMhEYZDIgyHRLQuOWRC2R9LX03/2Wq4+uwEPOOQCMMhEYZDIgyHRBgOiTAcEmE4JMJwSIThkAjDIRHtcFKpFGpqatDS0mLlPJQntMPp7e2Fz+ezchbKI1rhRKNRRCIRhEIhq+ehPKEVzqlTp3Dp0iWsWcO3RPQ/09sqbt++jU2bNiEQCGBkZGTJ7X5dreLXbc9UJbUGSvccVtq8Vm/GvptD2vu068oWiURixd9n09Uqzp49i4GBAbjdbnz//h3xeBytra24cePGkn9nsRUP7H4/ju5qFcth13uLsrJaxcWLFxGNRmEYBsLhMPbv3582GnIGvmkhkWWdmxsbG5c8xZGz8IxDIgyHRBgOiTAcEmE4JMJwSIThkAjDIRGGQyIMh0QYDolkbZmTXNG9neNMVe6e2663X6TDMw6JMBwSYTgkwnBIhOGQCMMhEYZDIgyHRBgOiTAcEjENZ3JyEvv27YPP50NlZSV6e3uzMRfZnOm1Krfbje7ubtTW1uLr168IBAI4cOAA/+9xhzM942zduhW1tbUAgA0bNsDn8yEWi1k+GNnbst7jGIaBJ0+eoL6+3qp5KE+YrlYxJ5FIYO/evTh37hxaW1sXPP7rMifhcHje409jXzIwrnU2rwU+fMv1FOnpLpti9r2eO9bF9tfZ2am1WoVWOLOzs2hpaUFTUxNOnz5tutOVLHOSK2eqkhlf5iTTdO/bMftezx3rYvvL2DInSikcP34cPp9PKxpyBtNwxsbGMDAwgPv378Pv98Pv9+POnTvZmI1szPTcvGfPHmi+DSIH4SfHJMJwSIThkAjDIRGGQyIMh0QYDokwHBJhOCTCcEjE3peDaR473WHAMw6JMBwSYTgkwnBIhOGQCMMhEYZDIgyHRBgOiTAcEtEK5969e9ixYwfKy8vR1dVl9UyUB0zDSaVSOHHiBO7evYuJiQkMDg5iYmIiG7ORjZmG8+jRI5SXl8Pr9cLj8eDQoUMYGhrKxmxkY6bhxGIxlJaW/vi6pKSEy5yQ+W0Vi/0rTpfLteDPfl6t4sWLFwgGg/MeL5ROmCV/Df6DoqKiXI+RFXPHGgz+ueAxwzC09mEaTklJCSYnJ398HY1GsW3btgXbdXR0oKOjQ+tJ7Uh3lYbVIBPHavpSVVdXh1evXuHt27eYmZlBOBzGwYMHV/SklP+01gC8fPkympqakEqlcOzYMVRWVmZjNrIxrVtHm5ub0dzcbPUsOZXPL7PLlYlj1V7KjehnvORAIo4Px0mXUzK62LlysGQyqbxer3r9+rWanp5Wu3btUs+fP8/1WJZ59+6devz4sVJKqXg8rioqKsTH6+gzjtMup2RysXNHh+PkyykrXezc0eEozcspq00ikUBbWxt6enpQUFAg2oejw9G9nLKazM7Ooq2tDe3t7YuukK/L0Z/jJJNJbN++HcPDwyguLkZdXR1u3bq1aj8ZV0rhyJEj2LhxI3p6ela8M0eLRCKqoqJCeb1edeHChVyPY6nR0VEFQFVVVanq6mpVXV2tIpGIaF+OPuOQnKPf45AcwyERhkMiDIdEGA6JMBwSYTgkwnBI5D+AJWJ9PC5lUgAAAABJRU5ErkJggg=='></td><td style=\"min-width:125px;vertical-align:bottom;\"><img src='data:image/png;base64,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'></td></tr>\n",
       "    <tr style=\"text-align: right;\">\n",
       "      <th>A<br/><i>float64</i></th>\n",
       "      <th>B<br/><i>float64</i></th>\n",
       "      <th>C<br/><i>float64</i></th>\n",
       "      <th>D<br/><i>float64</i></th>\n",
       "    </tr>\n",
       "  </thead>\n",
       "  <tbody>\n",
       "    <tr>\n",
       "      <td>-0.374151</td>\n",
       "      <td>-0.488146</td>\n",
       "      <td>0.636857</td>\n",
       "      <td>-0.719862</td>\n",
       "    </tr>\n",
       "    <tr>\n",
       "      <td>0.588896</td>\n",
       "      <td>-0.120650</td>\n",
       "      <td>-1.218655</td>\n",
       "      <td>1.369809</td>\n",
       "    </tr>\n",
       "    <tr>\n",
       "      <td>1.222006</td>\n",
       "      <td>-0.900038</td>\n",
       "      <td>1.370858</td>\n",
       "      <td>0.187985</td>\n",
       "    </tr>\n",
       "    <tr>\n",
       "      <td>1.587131</td>\n",
       "      <td>-1.299397</td>\n",
       "      <td>0.663926</td>\n",
       "      <td>1.535600</td>\n",
       "    </tr>\n",
       "    <tr>\n",
       "      <td>2.311916</td>\n",
       "      <td>1.431483</td>\n",
       "      <td>-0.070365</td>\n",
       "      <td>-1.498477</td>\n",
       "    </tr>\n",
       "    <tr>\n",
       "      <td>-2.155721</td>\n",
       "      <td>0.569681</td>\n",
       "      <td>0.315420</td>\n",
       "      <td>-1.474334</td>\n",
       "    </tr>\n",
       "    <tr>\n",
       "      <td>-0.665341</td>\n",
       "      <td>-0.485376</td>\n",
       "      <td>0.579306</td>\n",
       "      <td>-1.185955</td>\n",
       "    </tr>\n",
       "    <tr>\n",
       "      <td>0.829805</td>\n",
       "      <td>-0.905074</td>\n",
       "      <td>0.844741</td>\n",
       "      <td>-0.804709</td>\n",
       "    </tr>\n",
       "    <tr>\n",
       "      <td>1.028723</td>\n",
       "      <td>1.899508</td>\n",
       "      <td>2.023489</td>\n",
       "      <td>-1.251034</td>\n",
       "    </tr>\n",
       "    <tr>\n",
       "      <td>0.437545</td>\n",
       "      <td>-1.122483</td>\n",
       "      <td>-1.236668</td>\n",
       "      <td>-0.206684</td>\n",
       "    </tr>\n",
       "  </tbody>\n",
       "</table>"
      ],
      "text/plain": [
       "<IPython.core.display.HTML object>"
      ]
     },
     "execution_count": 3,
     "metadata": {},
     "output_type": "execute_result"
    }
   ],
   "source": [
    "df.rundown()"
   ]
  }
 ],
 "metadata": {
  "kernelspec": {
   "display_name": "Python 3",
   "language": "python",
   "name": "python3"
  },
  "language_info": {
   "codemirror_mode": {
    "name": "ipython",
    "version": 3
   },
   "file_extension": ".py",
   "mimetype": "text/x-python",
   "name": "python",
   "nbconvert_exporter": "python",
   "pygments_lexer": "ipython3",
   "version": "3.7.3"
  },
  "varInspector": {
   "cols": {
    "lenName": 16,
    "lenType": 16,
    "lenVar": 40
   },
   "kernels_config": {
    "python": {
     "delete_cmd_postfix": "",
     "delete_cmd_prefix": "del ",
     "library": "var_list.py",
     "varRefreshCmd": "print(var_dic_list())"
    },
    "r": {
     "delete_cmd_postfix": ") ",
     "delete_cmd_prefix": "rm(",
     "library": "var_list.r",
     "varRefreshCmd": "cat(var_dic_list()) "
    }
   },
   "types_to_exclude": [
    "module",
    "function",
    "builtin_function_or_method",
    "instance",
    "_Feature"
   ],
   "window_display": false
  }
 },
 "nbformat": 4,
 "nbformat_minor": 2
}
