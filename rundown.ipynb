{
 "cells": [
  {
   "cell_type": "markdown",
   "metadata": {},
   "source": [
    "# Rundown\n",
    "\n",
    "*You started on that rundown yet?*"
   ]
  },
  {
   "cell_type": "code",
   "execution_count": 1,
   "metadata": {
    "ExecuteTime": {
     "end_time": "2019-07-09T04:45:30.537589Z",
     "start_time": "2019-07-09T04:45:30.534212Z"
    }
   },
   "outputs": [],
   "source": [
    "import pandas as pd\n",
    "import rundown"
   ]
  },
  {
   "cell_type": "markdown",
   "metadata": {},
   "source": [
    "# Test"
   ]
  },
  {
   "cell_type": "code",
   "execution_count": 2,
   "metadata": {
    "ExecuteTime": {
     "end_time": "2019-07-09T04:51:15.138243Z",
     "start_time": "2019-07-09T04:51:14.889931Z"
    }
   },
   "outputs": [],
   "source": [
    "df = pd.util.testing.makeDataFrame()"
   ]
  },
  {
   "cell_type": "code",
   "execution_count": 3,
   "metadata": {
    "ExecuteTime": {
     "end_time": "2019-07-09T04:51:18.925476Z",
     "start_time": "2019-07-09T04:51:18.539770Z"
    },
    "scrolled": false
   },
   "outputs": [
    {
     "data": {
      "text/html": [
       "<table border=\"1\" class=\"dataframe\">\n",
       "  <thead><tr><td style=\"vertical-align:bottom;\"><table border=\"1\" class=\"dataframe\">\n",
       "  <tbody style=\"display: block; max-height: 1in; overflow-y: auto\">\n",
       "    <tr>\n",
       "      <th>count</th>\n",
       "      <td>30</td>\n",
       "    </tr>\n",
       "    <tr>\n",
       "      <th>unique</th>\n",
       "      <td>30</td>\n",
       "    </tr>\n",
       "    <tr>\n",
       "      <th>top</th>\n",
       "      <td>0NzMgfbYjP</td>\n",
       "    </tr>\n",
       "    <tr>\n",
       "      <th>freq</th>\n",
       "      <td>1</td>\n",
       "    </tr>\n",
       "  </tbody>\n",
       "</table></td><td style=\"min-width:125px;vertical-align:bottom;\"><img src='data:image/png;base64,iVBORw0KGgoAAAANSUhEUgAAAIsAAAB+CAYAAAAURuJVAAAABHNCSVQICAgIfAhkiAAAAAlwSFlzAAALEgAACxIB0t1+/AAAADh0RVh0U29mdHdhcmUAbWF0cGxvdGxpYiB2ZXJzaW9uMy4xLjEsIGh0dHA6Ly9tYXRwbG90bGliLm9yZy8QZhcZAAAFmUlEQVR4nO3dz0tUexzG8cfL4M5WGogK46TkKP5IR2zhwqQf5BWl3AjWpmJctFCC5P4BhRIECa1cRGCQ28JJBXUjbWTEjUkg6gHHiGwh2abG6dvi3iv3XrXzzM0z5zv5vFbqnBk/DG/OHGeO35NjjDEQIfzm9wCSPRSL0BSL0BSL0BSL0BSL0AJePGh+fj6CwaAXDy0ecxwHHz9+PPA2T2IJBoOIx+NePLR4LBKJHHqbXoaEpliE5snLkE2Cf8So7Zyh3z2eJPtpzyI0xSI0xSI0xSI0xSI0xSI0xSI0xSI0xSI0xSI0xSI0xSI0xSI0xSI0OpZUKoUzZ86gvb3dy3nEYnQsw8PDCIfDXs4ilqNiSSQSiMViuHXrltfziMWoM+X6+/vx4MED7OzsHLrNyMgIRkZGAABbW1tHM52F2DPvAP/OvvPq7EDXPcv4+DhOnjyJhoaGH24XjUYRj8cRj8dRUFCQ1hCSHVxjef36NV6+fIlgMIju7m7Mzs7i2rVrmZhNLOMay+DgIBKJBBzHwdjYGFpbW/Hs2bNMzCaW0fssQkvrX0FaWlrQ0tLi0ShiO+1ZhKZYhKZYhKZYhKZYhKZYhKZYhKZYhKZYhKZYhKZYhKZYhGbdmnLpnIlm++896jPW/Hpu/qY9i9AUi9AUi9AUi9AUi9AUi9AUi9AUi9AUi9AUi9AUi9AUi9AUi9AUi9BcY9nY2MC5c+dQWVmJqqoqDA8PZ2IusZDr+SyBQAAPHz5EfX09dnZ20NDQgAsXLqCysjIT84lFXPcshYWFqK+vBwDk5eUhHA5jc3PT88HEPmkdsziOg8XFRTQ1NXk1j1iMPq3y8+fP6OrqwqNHj3DixIl9tx+XBQiPM2rPkkwm0dXVhZ6eHly9evXAbbQA4a/PNRZjDG7evIlwOIw7d+5kYiaxFLVa5ejoKGZnZ1FXV4e6ujq8evUqE7OJZVyPWZqbm2GMycQsYjm9gys0xSI0xSI0xSI0xSI0xSI0xSI0xSI0xSI0xSI0xSI0xSI0xSK0jC1A6PfieTbLludGexahKRahKRahKRahKRahKRahKRahKRahKRahKRahKRahKRahKRahUbFMTk7i9OnTKCsrw9DQkNcziaVcY0mlUrh9+zYmJiawvLyM58+fY3l5OROziWVcY5mfn0dZWRlCoRByc3PR3d2NFy9eZGI2sYxrLJubmygpKdn7vri4WAsQHlNHdqbcP9eUe/v2LSKRyL9uz//P9ltbW1m9nNivMH9kev/8juMceh/XWIqKirCxsbH3fSKRQFFR0b7totEootEoOSoQiUQQj8fp7W1zHOd3fRlqbGzEysoK1tfX8fXrV4yNjaGjo+N/DynZi1ph+/Hjx7h06RJSqRRu3LiBqqqqTMwmlqGOWdra2tDW1nakvzidlywbHcf5c4xWFxSS3u4Xmq+x3L17FxUVFaipqcGVK1ewvb3t5zi0bP7446cuCWR8NDU1ZZLJpDHGmIGBATMwMODnOJTd3V0TCoXM6uqq+fLli6mpqTFv3rzxeyzau3fvzMLCgjHGmE+fPpny8nJ6fl/3LBcvXkQg8Ocx9tmzZ5FIJPwch5LtH3/8zCWBrDlmefLkCS5fvuz3GK5+pY8/0r0kkOf/GH/+/Hm8f/9+38/v37+Pzs7Ova8DgQB6enq8Hkf+4nZJoIN4Hsv09PQPb3/69CnGx8cxMzODnJwcr8f5aezHHzZjLgl0IC8PptxMTEyYcDhsPnz44OcYaUkmk6a0tNSsra3tHeAuLS35PRbt27dv5vr166avry/t+/oay6lTp0xxcbGpra01tbW1pre3189xaLFYzJSXl5tQKGTu3bvn9zhpmZubMwBMdXX13vMei8Wo++odXKFZ89eQ2E+xCE2xCE2xCE2xCE2xCE2xCE2xCO07Rx+SpMSqDMYAAAAASUVORK5CYII='></td><td style=\"min-width:125px;vertical-align:bottom;\"><img src='data:image/png;base64,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'></td><td style=\"min-width:125px;vertical-align:bottom;\"><img src='data:image/png;base64,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'></td><td style=\"min-width:125px;vertical-align:bottom;\"><img src='data:image/png;base64,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'></td></tr>\n",
       "    <tr style=\"text-align: right;\">\n",
       "      <th>index<br/><i>object</i></th>\n",
       "      <th>A<br/><i>float64</i></th>\n",
       "      <th>B<br/><i>float64</i></th>\n",
       "      <th>C<br/><i>float64</i></th>\n",
       "      <th>D<br/><i>float64</i></th>\n",
       "    </tr>\n",
       "  </thead>\n",
       "  <tbody>\n",
       "    <tr>\n",
       "      <td>AN9cg0Tu0Q</td>\n",
       "      <td>-0.291661</td>\n",
       "      <td>1.379910</td>\n",
       "      <td>-0.101013</td>\n",
       "      <td>-0.225165</td>\n",
       "    </tr>\n",
       "    <tr>\n",
       "      <td>bRZwbNFHBU</td>\n",
       "      <td>1.297398</td>\n",
       "      <td>1.035902</td>\n",
       "      <td>-0.170059</td>\n",
       "      <td>1.273654</td>\n",
       "    </tr>\n",
       "    <tr>\n",
       "      <td>n9nJKjGYRx</td>\n",
       "      <td>0.286563</td>\n",
       "      <td>0.852070</td>\n",
       "      <td>-0.425076</td>\n",
       "      <td>0.428809</td>\n",
       "    </tr>\n",
       "    <tr>\n",
       "      <td>cBSPySWWUp</td>\n",
       "      <td>-1.153952</td>\n",
       "      <td>0.396692</td>\n",
       "      <td>-0.764351</td>\n",
       "      <td>-1.324437</td>\n",
       "    </tr>\n",
       "    <tr>\n",
       "      <td>XIgPmAefxF</td>\n",
       "      <td>0.512789</td>\n",
       "      <td>-1.374790</td>\n",
       "      <td>0.468195</td>\n",
       "      <td>-0.385338</td>\n",
       "    </tr>\n",
       "    <tr>\n",
       "      <td>yHrTvBs0En</td>\n",
       "      <td>-1.493963</td>\n",
       "      <td>-1.041929</td>\n",
       "      <td>0.006742</td>\n",
       "      <td>0.841923</td>\n",
       "    </tr>\n",
       "    <tr>\n",
       "      <td>1PPjG86GCU</td>\n",
       "      <td>-0.072030</td>\n",
       "      <td>-0.199458</td>\n",
       "      <td>-0.087145</td>\n",
       "      <td>-0.512621</td>\n",
       "    </tr>\n",
       "    <tr>\n",
       "      <td>uV3cqSVo0b</td>\n",
       "      <td>-0.461171</td>\n",
       "      <td>-0.783447</td>\n",
       "      <td>-1.635251</td>\n",
       "      <td>-0.805998</td>\n",
       "    </tr>\n",
       "    <tr>\n",
       "      <td>7Lv1VhP01l</td>\n",
       "      <td>-0.504922</td>\n",
       "      <td>0.363868</td>\n",
       "      <td>-1.555077</td>\n",
       "      <td>-1.165953</td>\n",
       "    </tr>\n",
       "    <tr>\n",
       "      <td>nNbCIfn0Zr</td>\n",
       "      <td>-1.049322</td>\n",
       "      <td>-1.187090</td>\n",
       "      <td>-0.568487</td>\n",
       "      <td>0.059966</td>\n",
       "    </tr>\n",
       "  </tbody>\n",
       "</table>"
      ],
      "text/plain": [
       "<IPython.core.display.HTML object>"
      ]
     },
     "execution_count": 3,
     "metadata": {},
     "output_type": "execute_result"
    }
   ],
   "source": [
    "df.rundown()"
   ]
  },
  {
   "cell_type": "markdown",
   "metadata": {},
   "source": [
    "## Funky Types"
   ]
  },
  {
   "cell_type": "code",
   "execution_count": 4,
   "metadata": {
    "ExecuteTime": {
     "end_time": "2019-07-09T04:51:15.138243Z",
     "start_time": "2019-07-09T04:51:14.889931Z"
    }
   },
   "outputs": [],
   "source": [
    "df = pd.util.testing.makeTimeDataFrame()"
   ]
  },
  {
   "cell_type": "code",
   "execution_count": 19,
   "metadata": {
    "ExecuteTime": {
     "end_time": "2019-07-09T04:51:18.925476Z",
     "start_time": "2019-07-09T04:51:18.539770Z"
    },
    "scrolled": true
   },
   "outputs": [
    {
     "data": {
      "text/html": [
       "<table border=\"1\" class=\"dataframe\">\n",
       "  <thead><tr><td style=\"vertical-align:bottom;\"><table border=\"1\" class=\"dataframe\">\n",
       "  <tbody style=\"display: block; max-height: 1in; overflow-y: auto\">\n",
       "    <tr>\n",
       "      <th>count</th>\n",
       "      <td>30</td>\n",
       "    </tr>\n",
       "    <tr>\n",
       "      <th>unique</th>\n",
       "      <td>30</td>\n",
       "    </tr>\n",
       "    <tr>\n",
       "      <th>top</th>\n",
       "      <td>2000-01-28 00:00:00</td>\n",
       "    </tr>\n",
       "    <tr>\n",
       "      <th>freq</th>\n",
       "      <td>1</td>\n",
       "    </tr>\n",
       "    <tr>\n",
       "      <th>first</th>\n",
       "      <td>2000-01-03 00:00:00</td>\n",
       "    </tr>\n",
       "    <tr>\n",
       "      <th>last</th>\n",
       "      <td>2000-02-11 00:00:00</td>\n",
       "    </tr>\n",
       "  </tbody>\n",
       "</table></td><td style=\"min-width:125px;vertical-align:bottom;\"><img src='data:image/png;base64,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'></td><td style=\"min-width:125px;vertical-align:bottom;\"><img src='data:image/png;base64,iVBORw0KGgoAAAANSUhEUgAAAIsAAAB+CAYAAAAURuJVAAAABHNCSVQICAgIfAhkiAAAAAlwSFlzAAALEgAACxIB0t1+/AAAADh0RVh0U29mdHdhcmUAbWF0cGxvdGxpYiB2ZXJzaW9uMy4xLjEsIGh0dHA6Ly9tYXRwbG90bGliLm9yZy8QZhcZAAAGIElEQVR4nO3dT0gUfRzH8c8+LHuRuqRRuMK2LNQqyOZuVNDBor8+UZQdhO1SyYJ0SILkgQ7PKVqCoKUO4cGEgjx0KfxTkB6CLrEogUkR5YArRHUwjMBdl1+HQCqz+Vg7s6P7eZ3SHZzvxptxnBl/+owxBiKEf8o9gKwcikVoikVoikVoikVoikVofie+aHV1NUKhkBNfWhxmWRY+fvz4y9eoWGZmZtDe3o7x8XH4fD709PRg586dS24fCoWQzWb/bFopq0QiseRrVCznzp3DwYMHce/ePeTzeXz58qVkw8nKYRvLp0+f8OTJE/T29gIAAoEAAoGA03OJB9nGMjk5iZqaGpw6dQrPnz9HPB5HJpNBVVXVD9t1d3eju7sbAPDhwwdnpv1O6L8Bajsr/a/Dk1QO25+G5ufnMTo6io6ODoyNjaGqqgrpdHrRdqlUCtlsFtlsFjU1NY4MK+VlG0swGEQwGMT27dsBACdOnMDo6Kjjg4n32MayYcMG1NXV4dWrVwCA4eFh1NfXOz6YeA/109D169eRTCaRz+cRDodx69Ytp+cSD6JiicVium4iutwvPMUiNMUiNMUiNMUiNMUiNMUiNMUiNMUiNEceqxRnlPuxDB1ZhKZYhKZYhKZYhKZYhKZYhKZYhKZYhKZYhKZYhKZYhEbHUiwWsXXrVhw+fNjJecTD6FgymQyi0aiTs4jHUbHkcjkMDAygvb3d6XnEw6hHFDo7O3HlyhXMzs4uuY3bqyiw2Nv6rEpelcH2yNLf34/169cjHo//djutorD62cby9OlTPHjwAKFQCG1tbRgZGcHJkyfdmE08xjaWy5cvI5fLwbIs9PX1Yc+ePbhz544bs4nH6DqL0Jb1DG5zczOam5sdGkW8TkcWoSkWoSkWoSkWoSkWoSkWoSkWoSkWoSkWoSkWobm25Ea5l4soleU8H+P197JcOrIITbEITbEITbEITbEITbEITbEITbEITbEITbEIzTaWqakp7N69G/X19WhoaEAmk3FjLvEg23tDfr8fV69eRVNTE2ZnZxGPx7Fv3z79ud4KZHtk2bhxI5qamgAAa9asQTQaxfT0tOODifcs65zFsiyMjY0t/PV4qSz0IwqfP39Ga2srrl27hrVr1y563atLbqwEpV4WxKnHQagjS6FQQGtrK5LJJI4fP/7LbbTkxupnG4sxBmfOnEE0GsX58+fdmEk8ilqf5fbt2xgZGUEsFkMsFsPg4KAbs4nH2J6z7Nq1C8YYN2YRj9MVXKEpFqEpFqEpFqEpFqEpFqEpFqEpFqEpFqEpFqG5topCJSr1owflpiOL0BSL0BSL0BSL0BSL0BSL0BSL0BSL0BSL0BSL0KhYHj58iM2bNyMSiSCdTjs9k3iUbSzFYhFnz57F0NAQJiYmcPfuXUxMTLgxm3iMbSzPnj1DJBJBOBxGIBBAW1sb7t+/78Zs4jG2sUxPT6Ourm7h42AwqCU3KlTJHlH4fhWFly9fIpFI/PB6Nb6trmD3S/OJxP/U/qr/aEpnMO/Li371f21Z1pLb28ZSW1uLqamphY9zuRxqa2sXbZdKpZBKpWyGSyCbzdrtcsVZre/rZ7bfhrZt24bXr19jcnIS+XwefX19OHLkiBuzicdQa8rduHEDBw4cQLFYxOnTp9HQ0ODGbOIx1DlLS0sLWlpa/npndt+mVqrV+r5+5jNaT0NIutwvNFdjuXDhArZs2YLGxkYcO3YMMzMzbu6+5CruNohx0aNHj0yhUDDGGNPV1WW6urrc3H1Jzc/Pm3A4bN68eWPm5uZMY2OjefHiRbnHcpSrR5b9+/fD7/92Tr1jxw7kcjk3d19SlXgbpGznLD09PTh06FC5dv/XKvE2SMl/I3Hv3r149+7dos9funQJR48eXfi33+9HMpks9e7FQSWP5fHjx799vbe3F/39/RgeHobP5yv17l3D3gZZVdw8QRoaGjLRaNS8f//ezd06olAomE2bNpm3b98unOCOj4+XeyxHuXpRLhKJYG5uDuvWrQPw7ST35s2bbu2+5AYHB9HZ2blwG+TixYvlHslRuoIrNF3BFZpiEZpiEZpiEZpiEZpiEZpiEZpiEdpXrunS0IABQnIAAAAASUVORK5CYII='></td><td style=\"min-width:125px;vertical-align:bottom;\"><img src='data:image/png;base64,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'></td><td style=\"min-width:125px;vertical-align:bottom;\"><img src='data:image/png;base64,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'></td></tr>\n",
       "    <tr style=\"text-align: right;\">\n",
       "      <th>index<br/><i>datetime64[ns]</i></th>\n",
       "      <th>A<br/><i>float64</i></th>\n",
       "      <th>B<br/><i>float64</i></th>\n",
       "      <th>C<br/><i>float64</i></th>\n",
       "      <th>D<br/><i>float64</i></th>\n",
       "    </tr>\n",
       "  </thead>\n",
       "  <tbody>\n",
       "    <tr>\n",
       "      <td>2000-01-03</td>\n",
       "      <td>0.074272</td>\n",
       "      <td>-0.885825</td>\n",
       "      <td>-0.592237</td>\n",
       "      <td>-1.048405</td>\n",
       "    </tr>\n",
       "    <tr>\n",
       "      <td>2000-01-25</td>\n",
       "      <td>-0.461278</td>\n",
       "      <td>0.190393</td>\n",
       "      <td>1.834982</td>\n",
       "      <td>0.895390</td>\n",
       "    </tr>\n",
       "    <tr>\n",
       "      <td>2000-01-10</td>\n",
       "      <td>-0.210469</td>\n",
       "      <td>0.821330</td>\n",
       "      <td>-0.302177</td>\n",
       "      <td>1.147908</td>\n",
       "    </tr>\n",
       "    <tr>\n",
       "      <td>2000-01-21</td>\n",
       "      <td>0.632944</td>\n",
       "      <td>-0.561208</td>\n",
       "      <td>2.426766</td>\n",
       "      <td>-1.246591</td>\n",
       "    </tr>\n",
       "    <tr>\n",
       "      <td>2000-01-13</td>\n",
       "      <td>-0.726116</td>\n",
       "      <td>-1.187211</td>\n",
       "      <td>0.404247</td>\n",
       "      <td>-0.476466</td>\n",
       "    </tr>\n",
       "    <tr>\n",
       "      <td>2000-02-01</td>\n",
       "      <td>-0.890485</td>\n",
       "      <td>-0.942528</td>\n",
       "      <td>-0.849163</td>\n",
       "      <td>0.484695</td>\n",
       "    </tr>\n",
       "    <tr>\n",
       "      <td>2000-01-24</td>\n",
       "      <td>1.257312</td>\n",
       "      <td>-0.927101</td>\n",
       "      <td>-1.276639</td>\n",
       "      <td>-0.208257</td>\n",
       "    </tr>\n",
       "    <tr>\n",
       "      <td>2000-02-02</td>\n",
       "      <td>-0.294485</td>\n",
       "      <td>-0.716122</td>\n",
       "      <td>-2.727902</td>\n",
       "      <td>1.223427</td>\n",
       "    </tr>\n",
       "    <tr>\n",
       "      <td>2000-02-07</td>\n",
       "      <td>-0.145351</td>\n",
       "      <td>0.201346</td>\n",
       "      <td>0.158180</td>\n",
       "      <td>0.693714</td>\n",
       "    </tr>\n",
       "    <tr>\n",
       "      <td>2000-01-11</td>\n",
       "      <td>-0.423399</td>\n",
       "      <td>-1.023791</td>\n",
       "      <td>0.014944</td>\n",
       "      <td>-0.300000</td>\n",
       "    </tr>\n",
       "  </tbody>\n",
       "</table>"
      ],
      "text/plain": [
       "<IPython.core.display.HTML object>"
      ]
     },
     "execution_count": 19,
     "metadata": {},
     "output_type": "execute_result"
    }
   ],
   "source": [
    "df.rundown()"
   ]
  }
 ],
 "metadata": {
  "kernelspec": {
   "display_name": "Python 3",
   "language": "python",
   "name": "python3"
  },
  "language_info": {
   "codemirror_mode": {
    "name": "ipython",
    "version": 3
   },
   "file_extension": ".py",
   "mimetype": "text/x-python",
   "name": "python",
   "nbconvert_exporter": "python",
   "pygments_lexer": "ipython3",
   "version": "3.6.8"
  },
  "varInspector": {
   "cols": {
    "lenName": 16,
    "lenType": 16,
    "lenVar": 40
   },
   "kernels_config": {
    "python": {
     "delete_cmd_postfix": "",
     "delete_cmd_prefix": "del ",
     "library": "var_list.py",
     "varRefreshCmd": "print(var_dic_list())"
    },
    "r": {
     "delete_cmd_postfix": ") ",
     "delete_cmd_prefix": "rm(",
     "library": "var_list.r",
     "varRefreshCmd": "cat(var_dic_list()) "
    }
   },
   "types_to_exclude": [
    "module",
    "function",
    "builtin_function_or_method",
    "instance",
    "_Feature"
   ],
   "window_display": false
  }
 },
 "nbformat": 4,
 "nbformat_minor": 2
}
